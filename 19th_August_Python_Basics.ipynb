{
 "cells": [
  {
   "cell_type": "code",
   "execution_count": 1,
   "id": "555facd8-9799-4cad-a5d0-a28a0a998a30",
   "metadata": {},
   "outputs": [],
   "source": [
    "# TOPIC: Python Basics Variable\n",
    "'''Declare two variables, `x` and `y`, and assign them integer values. Swap the\n",
    "values of these variables without using any temporary variable.'''\n",
    "x=10"
   ]
  },
  {
   "cell_type": "code",
   "execution_count": 2,
   "id": "f7295fbc-d48a-4584-97dd-8127eda99480",
   "metadata": {},
   "outputs": [],
   "source": [
    "y=20"
   ]
  },
  {
   "cell_type": "code",
   "execution_count": 3,
   "id": "8ee05b54-09ff-4a6e-8ec1-283147c1d926",
   "metadata": {},
   "outputs": [],
   "source": [
    "# Swapping values without using any temporary variable\n",
    "x,y = y,x"
   ]
  },
  {
   "cell_type": "code",
   "execution_count": 4,
   "id": "4a506c10-eb68-432d-9d5f-2a95c7663327",
   "metadata": {},
   "outputs": [
    {
     "data": {
      "text/plain": [
       "20"
      ]
     },
     "execution_count": 4,
     "metadata": {},
     "output_type": "execute_result"
    }
   ],
   "source": [
    "x"
   ]
  },
  {
   "cell_type": "code",
   "execution_count": 5,
   "id": "6511433e-079f-4171-bc4f-dbb6ff948002",
   "metadata": {},
   "outputs": [
    {
     "data": {
      "text/plain": [
       "10"
      ]
     },
     "execution_count": 5,
     "metadata": {},
     "output_type": "execute_result"
    }
   ],
   "source": [
    "y"
   ]
  },
  {
   "cell_type": "code",
   "execution_count": 21,
   "id": "09839132-48a2-450e-ad79-fd5ede863b6f",
   "metadata": {},
   "outputs": [
    {
     "name": "stdin",
     "output_type": "stream",
     "text": [
      "length 10\n"
     ]
    }
   ],
   "source": [
    "'''Create a program that calculates the area of a rectangle. Take the length and\n",
    "width as inputs from the user and store them in variables. Calculate and\n",
    "display the area.'''\n",
    "# Method 1st\n",
    "# Input from the user\n",
    "# float is used to convert the input values to floating point numbers since the dimensions can be decimals.\n",
    "length = float(input(\"length\"))"
   ]
  },
  {
   "cell_type": "code",
   "execution_count": 22,
   "id": "e0a6f7a2-58a9-40b3-96f1-3fb2c7c1a085",
   "metadata": {},
   "outputs": [
    {
     "name": "stdin",
     "output_type": "stream",
     "text": [
      "width 5\n"
     ]
    }
   ],
   "source": [
    "width = float(input(\"width\"))"
   ]
  },
  {
   "cell_type": "code",
   "execution_count": 26,
   "id": "998e7d6f-8731-443a-b424-310165147c2a",
   "metadata": {},
   "outputs": [
    {
     "data": {
      "text/plain": [
       "50.0"
      ]
     },
     "execution_count": 26,
     "metadata": {},
     "output_type": "execute_result"
    }
   ],
   "source": [
    "# Display the result\n",
    "area"
   ]
  },
  {
   "cell_type": "code",
   "execution_count": 25,
   "id": "2b1ad7f4-de30-4ba8-a63e-fd71cf21a7b5",
   "metadata": {},
   "outputs": [],
   "source": [
    "# Calculate the area of the rectangle\n",
    "area = length * width"
   ]
  },
  {
   "cell_type": "code",
   "execution_count": 39,
   "id": "a2cd5f50-6708-49bd-bb06-aeb8f5367f73",
   "metadata": {},
   "outputs": [
    {
     "name": "stdin",
     "output_type": "stream",
     "text": [
      "Enter the length of the rectangle:  10\n",
      "Enter the width of the rectangle:  5\n"
     ]
    }
   ],
   "source": [
    "# Method 2nd\n",
    "# Input from the user\n",
    "# float is used to convert the input values to floating point numbers since the dimensions can be decimals.\n",
    "length = float(input(\"Enter the length of the rectangle: \"))\n",
    "width = float(input(\"Enter the width of the rectangle: \"))"
   ]
  },
  {
   "cell_type": "code",
   "execution_count": 40,
   "id": "612d444c-809f-4670-80d6-d63a97812ed4",
   "metadata": {},
   "outputs": [
    {
     "name": "stdout",
     "output_type": "stream",
     "text": [
      "The area of the rectangle is: 50.0\n"
     ]
    }
   ],
   "source": [
    "# Display the result\n",
    "print(\"The area of the rectangle is:\", area)"
   ]
  },
  {
   "cell_type": "code",
   "execution_count": 16,
   "id": "844ae372-8bfd-4115-a848-4f2984b35c54",
   "metadata": {},
   "outputs": [
    {
     "name": "stdin",
     "output_type": "stream",
     "text": [
      "temperature 100\n"
     ]
    }
   ],
   "source": [
    "'''Write a Python program that converts temperatures from Celsius to\n",
    "Fahrenheit. Take the temperature in Celsius as input, store it in a variable,\n",
    "convert it to Fahrenheit, and display the result.'''\n",
    "# Input temperature in Celsius\n",
    "celsius_temperature = float(input(\"temperature\"))"
   ]
  },
  {
   "cell_type": "code",
   "execution_count": 18,
   "id": "5ae5717e-a052-429a-a5b9-220e60a9e71a",
   "metadata": {},
   "outputs": [],
   "source": [
    "# Converting Celsius to Fahrenheit\n",
    "fahrenheit_temperature = (celsius_temperature * 9/5) + 32"
   ]
  },
  {
   "cell_type": "code",
   "execution_count": 20,
   "id": "b1710ca0-b8df-4c74-bc39-7cb5181fc78c",
   "metadata": {},
   "outputs": [
    {
     "data": {
      "text/plain": [
       "212.0"
      ]
     },
     "execution_count": 20,
     "metadata": {},
     "output_type": "execute_result"
    }
   ],
   "source": [
    "# Display the result\n",
    "fahrenheit_temperature"
   ]
  },
  {
   "cell_type": "code",
   "execution_count": 29,
   "id": "88c687ad-8956-49fd-ac59-cd655209aae0",
   "metadata": {},
   "outputs": [
    {
     "name": "stdin",
     "output_type": "stream",
     "text": [
      " My name is Akash\n"
     ]
    }
   ],
   "source": [
    "# TOPIC: String Based Questions\n",
    "'''Write a Python program that takes a string as input and prints the length of\n",
    "the string.'''\n",
    "# Get input from the user for a string -1st way\n",
    "user_input = input(\"\")"
   ]
  },
  {
   "cell_type": "code",
   "execution_count": 36,
   "id": "91002378-c62b-405e-b0df-1afe3da3c266",
   "metadata": {},
   "outputs": [
    {
     "data": {
      "text/plain": [
       "16"
      ]
     },
     "execution_count": 36,
     "metadata": {},
     "output_type": "execute_result"
    }
   ],
   "source": [
    "# Calculate the length of the string\n",
    "len(user_input)"
   ]
  },
  {
   "cell_type": "code",
   "execution_count": 35,
   "id": "cac014ac-e75d-4b79-b5cd-e97ff41dbffe",
   "metadata": {},
   "outputs": [
    {
     "name": "stdin",
     "output_type": "stream",
     "text": [
      "Enter a string:  My name is Akash\n"
     ]
    }
   ],
   "source": [
    "# Get input from the user for a string -2nd way\n",
    "user_input = input(\"Enter a string: \")"
   ]
  },
  {
   "cell_type": "code",
   "execution_count": 38,
   "id": "b4f1e992-4305-432b-a5d2-abaa28251135",
   "metadata": {},
   "outputs": [
    {
     "name": "stdout",
     "output_type": "stream",
     "text": [
      "Length of the string: 16\n"
     ]
    }
   ],
   "source": [
    "# Calculate the length of the string\n",
    "print(\"Length of the string:\", string_length)"
   ]
  },
  {
   "cell_type": "code",
   "execution_count": 6,
   "id": "63d29966-c67e-4561-932d-c308dea29896",
   "metadata": {},
   "outputs": [
    {
     "name": "stdin",
     "output_type": "stream",
     "text": [
      " hello WORLD\n"
     ]
    }
   ],
   "source": [
    "'''Create a program that takes a sentence from the user and counts the number\n",
    "of vowels (a, e, i, o, u) in the string.'''\n",
    "# Get input from the user for a string\n",
    "user_sentence = input(\"\")"
   ]
  },
  {
   "cell_type": "code",
   "execution_count": 7,
   "id": "112c13b9-de6e-48e5-bc2c-8b9dd855bd6b",
   "metadata": {},
   "outputs": [],
   "source": [
    "# Convert the sentence to lowercase to make the counting case-insensitive\n",
    "user_sentence_lower = user_sentence.lower()"
   ]
  },
  {
   "cell_type": "code",
   "execution_count": 8,
   "id": "647ea3df-4d21-4b90-9327-96026cbeca37",
   "metadata": {},
   "outputs": [],
   "source": [
    "# Initialize a variable to count the number of vowels\n",
    "vowel_count = 0"
   ]
  },
  {
   "cell_type": "code",
   "execution_count": 9,
   "id": "55ec4642-5c83-42be-877b-8005d397697c",
   "metadata": {},
   "outputs": [],
   "source": [
    "# Iterate through each character in the sentence\n",
    "for i in user_sentence_lower:\n",
    "    if i in \"aeiou\":\n",
    "        vowel_count += 1"
   ]
  },
  {
   "cell_type": "code",
   "execution_count": 10,
   "id": "bb30b0c9-e6d0-4d38-90d2-5c88ae485511",
   "metadata": {},
   "outputs": [
    {
     "name": "stdout",
     "output_type": "stream",
     "text": [
      "Number of vowels in the sentence: 3\n"
     ]
    }
   ],
   "source": [
    "print(\"Number of vowels in the sentence:\", vowel_count)"
   ]
  },
  {
   "cell_type": "code",
   "execution_count": 11,
   "id": "c6d2cc77-c6f1-4b4e-9da4-5268bef008c2",
   "metadata": {},
   "outputs": [
    {
     "name": "stdin",
     "output_type": "stream",
     "text": [
      "Enter a string:  Hello\n"
     ]
    }
   ],
   "source": [
    "'''Given a string, reverse the order of characters using string slicing and print\n",
    "the reversed string.'''\n",
    "# Get input from the user for a string\n",
    "user_input = input(\"Enter a string: \")"
   ]
  },
  {
   "cell_type": "code",
   "execution_count": 16,
   "id": "46ab84b2-3abb-4029-9cdd-943401ef6384",
   "metadata": {},
   "outputs": [],
   "source": [
    "# Reverse the string using string slicing -1st way\n",
    "reversed_string = user_input[-1:-6:-1]"
   ]
  },
  {
   "cell_type": "code",
   "execution_count": 17,
   "id": "3f599f13-f58c-4417-a099-d02a3382b9c9",
   "metadata": {},
   "outputs": [
    {
     "name": "stdout",
     "output_type": "stream",
     "text": [
      "Reversed string: olleH\n"
     ]
    }
   ],
   "source": [
    "# Display the reversed string\n",
    "print(\"Reversed string:\", reversed_string)"
   ]
  },
  {
   "cell_type": "code",
   "execution_count": 18,
   "id": "e586442d-e95c-4517-b703-c42ddf6d20c3",
   "metadata": {},
   "outputs": [],
   "source": [
    "# Reverse the string using string slicing -2nd way\n",
    "reversed_string = user_input[::-1]"
   ]
  },
  {
   "cell_type": "code",
   "execution_count": 19,
   "id": "25a5abba-f278-44bb-b957-5e0726bdda2c",
   "metadata": {},
   "outputs": [
    {
     "name": "stdout",
     "output_type": "stream",
     "text": [
      "Reversed string: olleH\n"
     ]
    }
   ],
   "source": [
    "# Display the reversed string\n",
    "print(\"Reversed string:\", reversed_string)"
   ]
  },
  {
   "cell_type": "code",
   "execution_count": 26,
   "id": "3f5d3b5b-db2f-4aae-aaa8-e83da8b813c6",
   "metadata": {},
   "outputs": [
    {
     "name": "stdin",
     "output_type": "stream",
     "text": [
      "Enter a string:  eye\n"
     ]
    }
   ],
   "source": [
    "'''Write a program that takes a string as input and checks if it is a palindrome\n",
    "(reads the same forwards and backwards).'''\n",
    "# Get input from the user for a string\n",
    "user_input = input(\"Enter a string: \")"
   ]
  },
  {
   "cell_type": "code",
   "execution_count": 27,
   "id": "7dccc3f9-fa15-4dd2-9cdf-d47d64c38f4f",
   "metadata": {},
   "outputs": [],
   "source": [
    "# Remove spaces and convert to lowercase for case-insensitive\n",
    "cleaned_input = user_input.replace(\" \", \"\").lower()"
   ]
  },
  {
   "cell_type": "code",
   "execution_count": 28,
   "id": "5cf163fc-84b8-47b4-85c2-290ef07a2c5e",
   "metadata": {},
   "outputs": [
    {
     "name": "stdout",
     "output_type": "stream",
     "text": [
      "The string is a palindrome.\n"
     ]
    }
   ],
   "source": [
    "# Checking if the cleaned string is equal to its reverse\n",
    "if cleaned_input == cleaned_input[::-1]:\n",
    "    print(\"The string is a palindrome.\")\n",
    "else:\n",
    "    print(\"The string is not a palindrome.\")"
   ]
  },
  {
   "cell_type": "code",
   "execution_count": 29,
   "id": "22006a6e-7604-4003-b4ce-bf238200d937",
   "metadata": {},
   "outputs": [
    {
     "name": "stdin",
     "output_type": "stream",
     "text": [
      "Enter a string:  This is python test\n"
     ]
    }
   ],
   "source": [
    "'''Create a program that takes a string as input and removes all the spaces from\n",
    "it. Print the modified string without spaces.'''\n",
    "# Get input from the user for a string\n",
    "user_input = input(\"Enter a string: \")"
   ]
  },
  {
   "cell_type": "code",
   "execution_count": 30,
   "id": "f902c6a3-7030-4685-a90f-31fb22c43335",
   "metadata": {},
   "outputs": [],
   "source": [
    "# Remove spaces from the string\n",
    "modified_string = user_input.replace(\" \", \"\")"
   ]
  },
  {
   "cell_type": "code",
   "execution_count": 31,
   "id": "9e2ab0cc-96e9-4a20-8220-da4277107fb3",
   "metadata": {},
   "outputs": [
    {
     "data": {
      "text/plain": [
       "'Thisispythontest'"
      ]
     },
     "execution_count": 31,
     "metadata": {},
     "output_type": "execute_result"
    }
   ],
   "source": [
    "# Display the modified string without spaces\n",
    "modified_string"
   ]
  },
  {
   "cell_type": "code",
   "execution_count": null,
   "id": "86753348-4fee-4956-a3d9-4309c9d9f0b4",
   "metadata": {},
   "outputs": [],
   "source": []
  }
 ],
 "metadata": {
  "kernelspec": {
   "display_name": "Python 3 (ipykernel)",
   "language": "python",
   "name": "python3"
  },
  "language_info": {
   "codemirror_mode": {
    "name": "ipython",
    "version": 3
   },
   "file_extension": ".py",
   "mimetype": "text/x-python",
   "name": "python",
   "nbconvert_exporter": "python",
   "pygments_lexer": "ipython3",
   "version": "3.10.8"
  }
 },
 "nbformat": 4,
 "nbformat_minor": 5
}
